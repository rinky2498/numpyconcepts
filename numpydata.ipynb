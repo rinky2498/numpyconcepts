{
 "cells": [
  {
   "cell_type": "markdown",
   "metadata": {},
   "source": [
    "##  NUMPY PRACTICAL"
   ]
  },
  {
   "cell_type": "markdown",
   "metadata": {},
   "source": [
    "# Creating NUMPY Arrays"
   ]
  },
  {
   "cell_type": "code",
   "execution_count": 2,
   "metadata": {},
   "outputs": [
    {
     "name": "stdout",
     "output_type": "stream",
     "text": [
      "[10 20 30 40 50]\n"
     ]
    }
   ],
   "source": [
    "import numpy as np\n",
    "\n",
    "arr = np.array([10,20,30,40,50])\n",
    "print(arr)"
   ]
  },
  {
   "cell_type": "markdown",
   "metadata": {},
   "source": [
    "# Creating NDArray Object"
   ]
  },
  {
   "cell_type": "code",
   "execution_count": 4,
   "metadata": {},
   "outputs": [
    {
     "name": "stdout",
     "output_type": "stream",
     "text": [
      "[10 20 30 40]\n",
      "<class 'numpy.ndarray'>\n"
     ]
    }
   ],
   "source": [
    "import numpy as np\n",
    "arr = np.array((10,20,30,40))\n",
    "print(arr)\n",
    "print(type(arr))"
   ]
  },
  {
   "cell_type": "markdown",
   "metadata": {},
   "source": [
    "# checking datatype of array"
   ]
  },
  {
   "cell_type": "code",
   "execution_count": 27,
   "metadata": {},
   "outputs": [
    {
     "name": "stdout",
     "output_type": "stream",
     "text": [
      "int32\n"
     ]
    }
   ],
   "source": [
    "import numpy as np\n",
    "arr = np.array((10,20,30,40))\n",
    "print(arr.dtype)\n"
   ]
  },
  {
   "cell_type": "markdown",
   "metadata": {},
   "source": [
    "# Checking Number of Dimensions"
   ]
  },
  {
   "cell_type": "code",
   "execution_count": 7,
   "metadata": {},
   "outputs": [
    {
     "name": "stdout",
     "output_type": "stream",
     "text": [
      "1\n",
      "2\n",
      "3\n",
      "[[[10 20]\n",
      "  [30 40]]\n",
      "\n",
      " [[50 60]\n",
      "  [70 80]]]\n"
     ]
    }
   ],
   "source": [
    "import numpy as np\n",
    "arr1 = np.array([10,20,30,40])\n",
    "arr2 = np.array([[10,20,30,40],[50,60,70,80]])\n",
    "arr3 = np.array([[[10,20],[30,40]],[[50,60],[70,80]]])\n",
    "print(arr1.ndim)\n",
    "print(arr2.ndim)\n",
    "print(arr3.ndim)"
   ]
  },
  {
   "cell_type": "markdown",
   "metadata": {},
   "source": [
    "# NUMPY Array Indexing"
   ]
  },
  {
   "cell_type": "code",
   "execution_count": 3,
   "metadata": {},
   "outputs": [
    {
     "name": "stdout",
     "output_type": "stream",
     "text": [
      "30\n",
      "70\n",
      "40\n"
     ]
    }
   ],
   "source": [
    "##Acessing Elements from Arrays\n",
    "\n",
    "import numpy as np\n",
    "arr1 = np.array([10,20,30,40])\n",
    "arr2 = np.array([[10,20,30,40],[50,60,70,80]])\n",
    "arr3 = np.array([[[10,20],[30,40]],[[50,60],[70,80]]])\n",
    "\n",
    "print(arr1[2])           ##accesing element from 1d array\n",
    "print(arr2[1,2])        ##accesing 2nd element from 1st dimension\n",
    "print(arr3[0,1,1])      ##accesing  1st element of the second array of the first array"
   ]
  },
  {
   "cell_type": "markdown",
   "metadata": {},
   "source": [
    "# Negative Indexing"
   ]
  },
  {
   "cell_type": "code",
   "execution_count": 4,
   "metadata": {},
   "outputs": [
    {
     "name": "stdout",
     "output_type": "stream",
     "text": [
      "30\n",
      "20\n"
     ]
    }
   ],
   "source": [
    "##  we can also use the negative indexing to access the arrays like:-\n",
    "\n",
    "import numpy as np\n",
    "arr1 = np.array([10,20,30,40])\n",
    "arr2 = np.array([[10,20,30,40],[50,60,70,80]])\n",
    "\n",
    "print(arr1[-2])\n",
    "print(arr2[-2,-3])"
   ]
  },
  {
   "cell_type": "markdown",
   "metadata": {},
   "source": [
    "##  Array Slicing"
   ]
  },
  {
   "cell_type": "code",
   "execution_count": 7,
   "metadata": {},
   "outputs": [
    {
     "name": "stdout",
     "output_type": "stream",
     "text": [
      "[40 50 60 70]\n",
      "[10 20 30]\n",
      "[40 50]\n",
      "[30 50 70]\n"
     ]
    }
   ],
   "source": [
    "thisarray = np.array([10, 20, 30, 40, 50, 60, 70])\n",
    "\n",
    "print(thisarray[3:])           #access the elements starting from the index 3 to the end of the array\n",
    "\n",
    "print(thisarray[:3])           #access the elements from starting to the index 3 \n",
    "\n",
    "print(thisarray[-4:-2]) #negative slicing\n",
    "print(thisarray[2: : 2])\n"
   ]
  },
  {
   "cell_type": "markdown",
   "metadata": {},
   "source": [
    "# Copy of an Array"
   ]
  },
  {
   "cell_type": "code",
   "execution_count": 8,
   "metadata": {},
   "outputs": [
    {
     "name": "stdout",
     "output_type": "stream",
     "text": [
      "[10 20 30 40 50 60 70]\n"
     ]
    }
   ],
   "source": [
    "thisarray = np.array([10, 20, 30, 40, 50, 60, 70])\n",
    "arr = thisarray.copy()\n",
    "thisarray[4] = 45\n",
    "print(arr)"
   ]
  },
  {
   "cell_type": "markdown",
   "metadata": {},
   "source": [
    "# View of an Array"
   ]
  },
  {
   "cell_type": "code",
   "execution_count": 16,
   "metadata": {},
   "outputs": [
    {
     "name": "stdout",
     "output_type": "stream",
     "text": [
      "[10 20 30 40 45 60 70]\n",
      "[10 20 30 40 50 60 70]\n"
     ]
    }
   ],
   "source": [
    "thisarray = np.array([10, 20, 30, 40, 50, 60, 70])\n",
    "arr = thisarray.copy()        ##copy doesn't affect the original array\n",
    "thisarray[4] = 45\n",
    "print(thisarray.view())       ##view represent the array after change\n",
    "print(arr)"
   ]
  },
  {
   "cell_type": "markdown",
   "metadata": {},
   "source": [
    "# NUMPY Sorting Arrays"
   ]
  },
  {
   "cell_type": "code",
   "execution_count": 21,
   "metadata": {},
   "outputs": [
    {
     "name": "stdout",
     "output_type": "stream",
     "text": [
      "['apple' 'banana' 'grapes' 'papaya' 'strawberry']\n",
      "[ 2 10 30 34 57 90]\n",
      "[[ 0  2  9 15 25]\n",
      " [ 0  4  9 12 25]]\n"
     ]
    }
   ],
   "source": [
    "thisarray = np.array(['apple','strawberry','papaya','banana','grapes'])\n",
    "thisarray1 = np.array([30,2,57,10,90,34])\n",
    "thisarray2 = np.array([[2,15,25,9,0],[12,9,0,25,4]])   ##sorting a 2d array\n",
    "print(np.sort(thisarray))\n",
    "print(np.sort(thisarray1))\n",
    "print(np.sort(thisarray2))"
   ]
  },
  {
   "cell_type": "markdown",
   "metadata": {},
   "source": [
    "# joining NUMPY Arrays"
   ]
  },
  {
   "cell_type": "code",
   "execution_count": 24,
   "metadata": {},
   "outputs": [
    {
     "name": "stdout",
     "output_type": "stream",
     "text": [
      "[10  2  3  4  5  6]\n",
      "[[10  2  3]\n",
      " [ 4  5  6]]\n",
      "[[10  4]\n",
      " [ 2  5]\n",
      " [ 3  6]]\n"
     ]
    }
   ],
   "source": [
    "thisarray1 = np.array([10, 2, 3])\n",
    "\n",
    "thisarray2 = np.array([4, 5, 6])\n",
    "\n",
    "arr1 = np.concatenate((thisarray1, thisarray2))     ##add the content of both the arrays in a single array\n",
    "\n",
    "arr2= np.stack((thisarray1, thisarray2), axis=0)    ##joining the array with stack function\n",
    "\n",
    "arr3= np.stack((thisarray1, thisarray2), axis=1)\n",
    "\n",
    "print(arr1)\n",
    "print(arr2)\n",
    "print(arr3)"
   ]
  },
  {
   "cell_type": "markdown",
   "metadata": {},
   "source": [
    "# array split in Numpy"
   ]
  },
  {
   "cell_type": "code",
   "execution_count": 23,
   "metadata": {},
   "outputs": [
    {
     "name": "stdout",
     "output_type": "stream",
     "text": [
      "[array([1, 2]), array([3, 4]), array([5, 6])]\n"
     ]
    }
   ],
   "source": [
    "import numpy as np\n",
    "\n",
    "arr = np.array([1, 2, 3, 4, 5, 6])\n",
    "\n",
    "newarr = np.array_split(arr, 3)\n",
    "\n",
    "print(newarr)"
   ]
  },
  {
   "cell_type": "markdown",
   "metadata": {},
   "source": [
    "# Array Shape and Reshape"
   ]
  },
  {
   "cell_type": "markdown",
   "metadata": {},
   "source": [
    "# Array Shape"
   ]
  },
  {
   "cell_type": "code",
   "execution_count": 15,
   "metadata": {},
   "outputs": [
    {
     "name": "stdout",
     "output_type": "stream",
     "text": [
      "(2, 4)\n",
      "8\n",
      "32\n"
     ]
    }
   ],
   "source": [
    "import numpy as np\n",
    "thisarray = np.array([[1, 2, 3, 4], [5, 6, 7, 8]])\n",
    "print(thisarray.shape)\n",
    "print(thisarray.size)\n",
    "print(thisarray.nbytes)\n",
    "\n",
    "\n"
   ]
  },
  {
   "cell_type": "markdown",
   "metadata": {},
   "source": [
    "# array Reshape"
   ]
  },
  {
   "cell_type": "code",
   "execution_count": 21,
   "metadata": {},
   "outputs": [
    {
     "name": "stdout",
     "output_type": "stream",
     "text": [
      "[[ 1  2  3  4]\n",
      " [ 5  6  7  8]\n",
      " [ 9 10 11 12]]\n",
      "[ 1  2  3  4  5  6  7  8  9 10 11 12]\n"
     ]
    }
   ],
   "source": [
    "import numpy as np\n",
    "\n",
    "thisarray = np.array([1, 2, 3, 4, 5, 6, 7, 8, 9, 10, 11, 12])\n",
    "\n",
    "newarr = thisarray.reshape(3, 4)   ##reshape 1d array into 2d array\n",
    "newarr2 = thisarray.reshape(2,3,2)   ##reshape 1d array into 3d array\n",
    "print(newarr)\n",
    "print(newarr2)\n",
    "print(newarr.reshape(-1))     ##flattening  the array\n",
    "\n"
   ]
  },
  {
   "cell_type": "markdown",
   "metadata": {},
   "source": [
    "# Searching in NUMPY Arrays"
   ]
  },
  {
   "cell_type": "code",
   "execution_count": 10,
   "metadata": {},
   "outputs": [
    {
     "name": "stdout",
     "output_type": "stream",
     "text": [
      "(array([5, 6], dtype=int64),)\n"
     ]
    }
   ],
   "source": [
    "thisarray = np.array([25, 20, 30, 44, 35, 43, 43])\n",
    "\n",
    "x = np.where(thisarray == 43)     ##the output show the index where value is exist\n",
    "\n",
    "print(x)"
   ]
  },
  {
   "cell_type": "markdown",
   "metadata": {},
   "source": [
    "# Filtering Arrays"
   ]
  },
  {
   "cell_type": "code",
   "execution_count": 36,
   "metadata": {},
   "outputs": [
    {
     "name": "stdout",
     "output_type": "stream",
     "text": [
      "[20 30]\n"
     ]
    }
   ],
   "source": [
    "thisarray = np.array([10, 20, 30, 40])\n",
    "\n",
    "x = [False, True, True, False]         ##In Filtering arrays value containing true included in the newarray and value containing false are excluded. \n",
    "\n",
    "newarray = thisarray[x]\n",
    "\n",
    "print(newarray)"
   ]
  },
  {
   "cell_type": "markdown",
   "metadata": {},
   "source": [
    "# Numpy Sum() function"
   ]
  },
  {
   "cell_type": "code",
   "execution_count": 24,
   "metadata": {},
   "outputs": [
    {
     "name": "stdout",
     "output_type": "stream",
     "text": [
      "19\n"
     ]
    }
   ],
   "source": [
    "import numpy as np\n",
    "thisarray = np.array([2,6,8,3])\n",
    "array_sum = np.sum(thisarray)      \n",
    "print(array_sum)        ##sum of the elements in the given array"
   ]
  },
  {
   "cell_type": "markdown",
   "metadata": {},
   "source": [
    "# Numpy zer0() function\n"
   ]
  },
  {
   "cell_type": "code",
   "execution_count": 25,
   "metadata": {},
   "outputs": [
    {
     "name": "stdout",
     "output_type": "stream",
     "text": [
      "[0. 0. 0. 0. 0.]\n"
     ]
    }
   ],
   "source": [
    "import numpy as np\n",
    "thisarray = np.zeros(5)\n",
    "print(thisarray)"
   ]
  },
  {
   "cell_type": "markdown",
   "metadata": {},
   "source": [
    "# numpy ones() function"
   ]
  },
  {
   "cell_type": "code",
   "execution_count": 26,
   "metadata": {},
   "outputs": [
    {
     "name": "stdout",
     "output_type": "stream",
     "text": [
      "[1. 1. 1. 1.]\n"
     ]
    }
   ],
   "source": [
    "import numpy as np\n",
    "thisarray = np.ones(4)\n",
    "print(thisarray)"
   ]
  },
  {
   "cell_type": "code",
   "execution_count": null,
   "metadata": {},
   "outputs": [],
   "source": []
  }
 ],
 "metadata": {
  "kernelspec": {
   "display_name": "Python 3",
   "language": "python",
   "name": "python3"
  },
  "language_info": {
   "codemirror_mode": {
    "name": "ipython",
    "version": 3
   },
   "file_extension": ".py",
   "mimetype": "text/x-python",
   "name": "python",
   "nbconvert_exporter": "python",
   "pygments_lexer": "ipython3",
   "version": "3.8.3"
  }
 },
 "nbformat": 4,
 "nbformat_minor": 4
}
